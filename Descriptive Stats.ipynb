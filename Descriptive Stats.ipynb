{
 "cells": [
  {
   "cell_type": "markdown",
   "metadata": {
    "zanadu": {}
   },
   "source": [
    "# **Descriptive Statistics**\n",
    "---\n",
    " \n",
    "- Copyright (c) Antoine Jacquier (QuantLearn Ltd), 2022. All rights reserved\n",
    "\n",
    "- Author: Antoine Jacquier <Jack.QuantLearn@gmail.com>\n",
    "\n",
    "- Platform: Tested on Windows 10 with Python 3.9"
   ]
  },
  {
   "cell_type": "code",
   "execution_count": 122,
   "metadata": {
    "collapsed": true,
    "jupyter": {
     "outputs_hidden": true
    },
    "zanadu": {
     "code_type": ""
    }
   },
   "outputs": [],
   "source": [
    "from scipy.interpolate import interp1d\n",
    "import pandas as pd\n",
    "from pandas import DataFrame, Series\n",
    "import numpy as np\n",
    "import matplotlib.pyplot as plt\n",
    "%matplotlib inline \n",
    "import requests\n",
    "import urllib"
   ]
  },
  {
   "cell_type": "code",
   "execution_count": 123,
   "metadata": {
    "collapsed": true,
    "jupyter": {
     "outputs_hidden": true
    }
   },
   "outputs": [],
   "source": [
    "dls = \"http://www.cboe.com/micro/buywrite/dailypricehistory.xls\"\n",
    "filename = 'values.xls'\n",
    "resp = urllib.request.urlretrieve(dls, filename)"
   ]
  },
  {
   "cell_type": "code",
   "execution_count": 124,
   "metadata": {
    "collapsed": true,
    "jupyter": {
     "outputs_hidden": true
    }
   },
   "outputs": [],
   "source": [
    "df = pd.read_excel(filename)"
   ]
  },
  {
   "cell_type": "code",
   "execution_count": 125,
   "metadata": {},
   "outputs": [
    {
     "data": {
      "text/html": [
       "<div>\n",
       "<style scoped>\n",
       "    .dataframe tbody tr th:only-of-type {\n",
       "        vertical-align: middle;\n",
       "    }\n",
       "\n",
       "    .dataframe tbody tr th {\n",
       "        vertical-align: top;\n",
       "    }\n",
       "\n",
       "    .dataframe thead th {\n",
       "        text-align: right;\n",
       "    }\n",
       "</style>\n",
       "<table border=\"1\" class=\"dataframe\">\n",
       "  <thead>\n",
       "    <tr style=\"text-align: right;\">\n",
       "      <th></th>\n",
       "      <th>BXMSM</th>\n",
       "      <th>SPTR</th>\n",
       "      <th>SPXSM</th>\n",
       "      <th>PUTSM</th>\n",
       "      <th>CLL*</th>\n",
       "      <th>BXYSM</th>\n",
       "      <th>VIX®</th>\n",
       "      <th>VXOSM</th>\n",
       "      <th>BXMDSM</th>\n",
       "      <th>BFLYSM</th>\n",
       "      <th>CLLZSM</th>\n",
       "      <th>CMBOSM</th>\n",
       "      <th>CNDRSM</th>\n",
       "      <th>PPUTSM</th>\n",
       "    </tr>\n",
       "    <tr>\n",
       "      <th>Date</th>\n",
       "      <th></th>\n",
       "      <th></th>\n",
       "      <th></th>\n",
       "      <th></th>\n",
       "      <th></th>\n",
       "      <th></th>\n",
       "      <th></th>\n",
       "      <th></th>\n",
       "      <th></th>\n",
       "      <th></th>\n",
       "      <th></th>\n",
       "      <th></th>\n",
       "      <th></th>\n",
       "      <th></th>\n",
       "    </tr>\n",
       "  </thead>\n",
       "  <tbody>\n",
       "    <tr>\n",
       "      <th>1986-06-30 00:00:00</th>\n",
       "      <td>92.2055</td>\n",
       "      <td>NaN</td>\n",
       "      <td>250.84</td>\n",
       "      <td>89.9139</td>\n",
       "      <td>100</td>\n",
       "      <td>NaN</td>\n",
       "      <td>NaN</td>\n",
       "      <td>18.31</td>\n",
       "      <td>100</td>\n",
       "      <td>100</td>\n",
       "      <td>100</td>\n",
       "      <td>100</td>\n",
       "      <td>100</td>\n",
       "      <td>100</td>\n",
       "    </tr>\n",
       "    <tr>\n",
       "      <th>1986-07-01 00:00:00</th>\n",
       "      <td>92.5688</td>\n",
       "      <td>NaN</td>\n",
       "      <td>252.04</td>\n",
       "      <td>90.0581</td>\n",
       "      <td>100.48</td>\n",
       "      <td>NaN</td>\n",
       "      <td>NaN</td>\n",
       "      <td>17.85</td>\n",
       "      <td>100.47</td>\n",
       "      <td>100.01</td>\n",
       "      <td>100.43</td>\n",
       "      <td>100.32</td>\n",
       "      <td>100.15</td>\n",
       "      <td>100.46</td>\n",
       "    </tr>\n",
       "    <tr>\n",
       "      <th>1986-07-02 00:00:00</th>\n",
       "      <td>92.6135</td>\n",
       "      <td>(scroll down)</td>\n",
       "      <td>252.7</td>\n",
       "      <td>90.214</td>\n",
       "      <td>100.62</td>\n",
       "      <td>(scroll down)</td>\n",
       "      <td>(scroll down)</td>\n",
       "      <td>17.4</td>\n",
       "      <td>100.64</td>\n",
       "      <td>99.83</td>\n",
       "      <td>100.58</td>\n",
       "      <td>100.49</td>\n",
       "      <td>100.22</td>\n",
       "      <td>100.72</td>\n",
       "    </tr>\n",
       "    <tr>\n",
       "      <th>1986-07-03 00:00:00</th>\n",
       "      <td>92.819</td>\n",
       "      <td>NaN</td>\n",
       "      <td>251.79</td>\n",
       "      <td>90.1589</td>\n",
       "      <td>100.49</td>\n",
       "      <td>NaN</td>\n",
       "      <td>NaN</td>\n",
       "      <td>17.56</td>\n",
       "      <td>100.65</td>\n",
       "      <td>100.83</td>\n",
       "      <td>100.56</td>\n",
       "      <td>100.47</td>\n",
       "      <td>100.24</td>\n",
       "      <td>100.37</td>\n",
       "    </tr>\n",
       "    <tr>\n",
       "      <th>1986-07-07 00:00:00</th>\n",
       "      <td>90.9857</td>\n",
       "      <td>NaN</td>\n",
       "      <td>244.05</td>\n",
       "      <td>88.8831</td>\n",
       "      <td>98.26</td>\n",
       "      <td>NaN</td>\n",
       "      <td>NaN</td>\n",
       "      <td>18.87</td>\n",
       "      <td>98.02</td>\n",
       "      <td>100.24</td>\n",
       "      <td>98.39</td>\n",
       "      <td>98.43</td>\n",
       "      <td>99.55</td>\n",
       "      <td>97.45</td>\n",
       "    </tr>\n",
       "  </tbody>\n",
       "</table>\n",
       "</div>"
      ],
      "text/plain": [
       "                       BXMSM           SPTR   SPXSM    PUTSM    CLL*  \\\n",
       "Date                                                                   \n",
       "1986-06-30 00:00:00  92.2055            NaN  250.84  89.9139     100   \n",
       "1986-07-01 00:00:00  92.5688            NaN  252.04  90.0581  100.48   \n",
       "1986-07-02 00:00:00  92.6135  (scroll down)   252.7   90.214  100.62   \n",
       "1986-07-03 00:00:00   92.819            NaN  251.79  90.1589  100.49   \n",
       "1986-07-07 00:00:00  90.9857            NaN  244.05  88.8831   98.26   \n",
       "\n",
       "                             BXYSM          VIX®   VXOSM BXMDSM  BFLYSM   \\\n",
       "Date                                                                       \n",
       "1986-06-30 00:00:00            NaN            NaN  18.31     100     100   \n",
       "1986-07-01 00:00:00            NaN            NaN  17.85  100.47  100.01   \n",
       "1986-07-02 00:00:00  (scroll down)  (scroll down)   17.4  100.64   99.83   \n",
       "1986-07-03 00:00:00            NaN            NaN  17.56  100.65  100.83   \n",
       "1986-07-07 00:00:00            NaN            NaN  18.87   98.02  100.24   \n",
       "\n",
       "                    CLLZSM  CMBOSM  CNDRSM  PPUTSM   \n",
       "Date                                                 \n",
       "1986-06-30 00:00:00     100     100     100     100  \n",
       "1986-07-01 00:00:00  100.43  100.32  100.15  100.46  \n",
       "1986-07-02 00:00:00  100.58  100.49  100.22  100.72  \n",
       "1986-07-03 00:00:00  100.56  100.47  100.24  100.37  \n",
       "1986-07-07 00:00:00   98.39   98.43   99.55   97.45  "
      ]
     },
     "execution_count": 125,
     "metadata": {},
     "output_type": "execute_result"
    }
   ],
   "source": [
    "df.columns = [df.iloc[3, i]  for i in range(len(df.columns))]\n",
    "df = df.rename(columns={df.columns[0]: 'Date'})\n",
    "df = df.drop([0,1,2,3])\n",
    "df.index = df['Date']\n",
    "df = df.drop(columns=df.columns[0])\n",
    "df.head()"
   ]
  },
  {
   "cell_type": "code",
   "execution_count": 126,
   "metadata": {},
   "outputs": [
    {
     "name": "stdout",
     "output_type": "stream",
     "text": [
      "Index(['BXMSM', 'SPTR', 'SPXSM', 'PUTSM', 'CLL*', 'BXYSM', 'VIX® ', 'VXOSM',\n",
      "       'BXMDSM ', 'BFLYSM ', 'CLLZSM ', 'CMBOSM ', 'CNDRSM ', 'PPUTSM '],\n",
      "      dtype='object')\n"
     ]
    }
   ],
   "source": [
    "print(df.columns)"
   ]
  },
  {
   "cell_type": "code",
   "execution_count": 128,
   "metadata": {},
   "outputs": [
    {
     "data": {
      "text/html": [
       "<div>\n",
       "<style scoped>\n",
       "    .dataframe tbody tr th:only-of-type {\n",
       "        vertical-align: middle;\n",
       "    }\n",
       "\n",
       "    .dataframe tbody tr th {\n",
       "        vertical-align: top;\n",
       "    }\n",
       "\n",
       "    .dataframe thead th {\n",
       "        text-align: right;\n",
       "    }\n",
       "</style>\n",
       "<table border=\"1\" class=\"dataframe\">\n",
       "  <thead>\n",
       "    <tr style=\"text-align: right;\">\n",
       "      <th></th>\n",
       "      <th>SPX</th>\n",
       "      <th>VIX</th>\n",
       "    </tr>\n",
       "    <tr>\n",
       "      <th>Date</th>\n",
       "      <th></th>\n",
       "      <th></th>\n",
       "    </tr>\n",
       "  </thead>\n",
       "  <tbody>\n",
       "    <tr>\n",
       "      <th>1990-01-02 00:00:00</th>\n",
       "      <td>359.69</td>\n",
       "      <td>17.24</td>\n",
       "    </tr>\n",
       "    <tr>\n",
       "      <th>1990-01-03 00:00:00</th>\n",
       "      <td>358.76</td>\n",
       "      <td>18.19</td>\n",
       "    </tr>\n",
       "    <tr>\n",
       "      <th>1990-01-04 00:00:00</th>\n",
       "      <td>355.66</td>\n",
       "      <td>19.22</td>\n",
       "    </tr>\n",
       "    <tr>\n",
       "      <th>1990-01-05 00:00:00</th>\n",
       "      <td>352.2</td>\n",
       "      <td>20.11</td>\n",
       "    </tr>\n",
       "    <tr>\n",
       "      <th>1990-01-08 00:00:00</th>\n",
       "      <td>353.79</td>\n",
       "      <td>20.26</td>\n",
       "    </tr>\n",
       "  </tbody>\n",
       "</table>\n",
       "</div>"
      ],
      "text/plain": [
       "                        SPX    VIX\n",
       "Date                              \n",
       "1990-01-02 00:00:00  359.69  17.24\n",
       "1990-01-03 00:00:00  358.76  18.19\n",
       "1990-01-04 00:00:00  355.66  19.22\n",
       "1990-01-05 00:00:00   352.2  20.11\n",
       "1990-01-08 00:00:00  353.79  20.26"
      ]
     },
     "execution_count": 128,
     "metadata": {},
     "output_type": "execute_result"
    }
   ],
   "source": [
    "df2 = df[[df.columns[2], df.columns[6]]]\n",
    "df2 = df2.dropna()\n",
    "df2 = df2[1:]\n",
    "df2.columns = [\"SPX\", \"VIX\"]\n",
    "df2.head()\n"
   ]
  },
  {
   "cell_type": "code",
   "execution_count": 130,
   "metadata": {
    "zanadu": {
     "code_type": ""
    }
   },
   "outputs": [
    {
     "data": {
      "text/html": [
       "<div>\n",
       "<style scoped>\n",
       "    .dataframe tbody tr th:only-of-type {\n",
       "        vertical-align: middle;\n",
       "    }\n",
       "\n",
       "    .dataframe tbody tr th {\n",
       "        vertical-align: top;\n",
       "    }\n",
       "\n",
       "    .dataframe thead th {\n",
       "        text-align: right;\n",
       "    }\n",
       "</style>\n",
       "<table border=\"1\" class=\"dataframe\">\n",
       "  <thead>\n",
       "    <tr style=\"text-align: right;\">\n",
       "      <th></th>\n",
       "      <th>SPX</th>\n",
       "      <th>VIX</th>\n",
       "    </tr>\n",
       "  </thead>\n",
       "  <tbody>\n",
       "    <tr>\n",
       "      <th>count</th>\n",
       "      <td>7447.000000</td>\n",
       "      <td>7447.000000</td>\n",
       "    </tr>\n",
       "    <tr>\n",
       "      <th>mean</th>\n",
       "      <td>1241.253627</td>\n",
       "      <td>19.202425</td>\n",
       "    </tr>\n",
       "    <tr>\n",
       "      <th>std</th>\n",
       "      <td>642.414907</td>\n",
       "      <td>7.759176</td>\n",
       "    </tr>\n",
       "    <tr>\n",
       "      <th>min</th>\n",
       "      <td>295.460000</td>\n",
       "      <td>9.140000</td>\n",
       "    </tr>\n",
       "    <tr>\n",
       "      <th>25%</th>\n",
       "      <td>795.510000</td>\n",
       "      <td>13.580000</td>\n",
       "    </tr>\n",
       "    <tr>\n",
       "      <th>50%</th>\n",
       "      <td>1185.870000</td>\n",
       "      <td>17.300000</td>\n",
       "    </tr>\n",
       "    <tr>\n",
       "      <th>75%</th>\n",
       "      <td>1466.630000</td>\n",
       "      <td>22.590000</td>\n",
       "    </tr>\n",
       "    <tr>\n",
       "      <th>max</th>\n",
       "      <td>3025.860000</td>\n",
       "      <td>80.860000</td>\n",
       "    </tr>\n",
       "  </tbody>\n",
       "</table>\n",
       "</div>"
      ],
      "text/plain": [
       "               SPX          VIX\n",
       "count  7447.000000  7447.000000\n",
       "mean   1241.253627    19.202425\n",
       "std     642.414907     7.759176\n",
       "min     295.460000     9.140000\n",
       "25%     795.510000    13.580000\n",
       "50%    1185.870000    17.300000\n",
       "75%    1466.630000    22.590000\n",
       "max    3025.860000    80.860000"
      ]
     },
     "execution_count": 130,
     "metadata": {},
     "output_type": "execute_result"
    }
   ],
   "source": [
    "df = df2\n",
    "for i in range(len(df.columns)):\n",
    "    df[df.columns[i]] = pd.to_numeric(df[df.columns[i]])\n",
    "df.describe()"
   ]
  },
  {
   "cell_type": "code",
   "execution_count": 131,
   "metadata": {
    "zanadu": {
     "code_type": ""
    }
   },
   "outputs": [
    {
     "data": {
      "text/plain": [
       "<matplotlib.axes._subplots.AxesSubplot at 0x1d304b70>"
      ]
     },
     "execution_count": 131,
     "metadata": {},
     "output_type": "execute_result"
    },
    {
     "data": {
      "image/png": "[encoded data removed]",
      "text/plain": [
       "<matplotlib.figure.Figure at 0x1d3049b0>"
      ]
     },
     "metadata": {},
     "output_type": "display_data"
    }
   ],
   "source": [
    "#df[['VIX', 'VXO']].plot()\n",
    "a, b = 1000, 3000\n",
    "df = df[a:b]\n",
    "df[['SPX']].plot()"
   ]
  },
  {
   "cell_type": "code",
   "execution_count": 133,
   "metadata": {
    "zanadu": {
     "code_type": ""
    }
   },
   "outputs": [
    {
     "data": {
      "image/png": "[encoded data removed]",
      "text/plain": [
       "<matplotlib.figure.Figure at 0x1db1e438>"
      ]
     },
     "metadata": {},
     "output_type": "display_data"
    }
   ],
   "source": [
    "df['returnsSPX'] = np.log(df['SPX'] / df['SPX'].shift(1))\n",
    "df = df.dropna() ##df.drop(df.index[0]) ## Drop the first line with NaN\n",
    "df['returnsSPX'].plot();"
   ]
  },
  {
   "cell_type": "code",
   "execution_count": 134,
   "metadata": {
    "zanadu": {
     "code_type": ""
    }
   },
   "outputs": [
    {
     "data": {
      "image/png": "[encoded data removed]",
      "text/plain": [
       "<matplotlib.figure.Figure at 0x1c371748>"
      ]
     },
     "metadata": {},
     "output_type": "display_data"
    }
   ],
   "source": [
    "df['returnsSPX'].hist();"
   ]
  },
  {
   "cell_type": "code",
   "execution_count": 135,
   "metadata": {
    "zanadu": {
     "code_type": ""
    }
   },
   "outputs": [
    {
     "name": "stderr",
     "output_type": "stream",
     "text": [
      "C:\\Users\\ajacquie\\AppData\\Local\\Continuum\\Anaconda3\\lib\\site-packages\\scipy\\stats\\stats.py:1626: FutureWarning: Using a non-tuple sequence for multidimensional indexing is deprecated; use `arr[tuple(seq)]` instead of `arr[seq]`. In the future this will be interpreted as an array index, `arr[np.array(seq)]`, which will result either in an error or a different result.\n",
      "  return np.add.reduce(sorted[indexer] * weights, axis=axis) / sumval\n"
     ]
    },
    {
     "data": {
      "image/png": "[encoded data removed]",
      "text/plain": [
       "<matplotlib.figure.Figure at 0x1b6e99e8>"
      ]
     },
     "metadata": {},
     "output_type": "display_data"
    }
   ],
   "source": [
    "import seaborn as sns\n",
    "sns.distplot(df['returnsSPX'].values[1:], hist=True, kde=False, color = 'blue',hist_kws={'edgecolor':'black'});"
   ]
  },
  {
   "cell_type": "code",
   "execution_count": 138,
   "metadata": {
    "zanadu": {
     "code_type": ""
    }
   },
   "outputs": [
    {
     "name": "stdout",
     "output_type": "stream",
     "text": [
      "Skew of data set -0.300148\n",
      "Skew test p-value 0.000000\n",
      "Kurt of data set 4.151531\n",
      "Kurt test p-value 0.000000\n",
      "Norm test p-value 0.000000\n"
     ]
    }
   ],
   "source": [
    "import scipy.stats as scs\n",
    "def normality_tests(arr):\n",
    "    print(\"Skew of data set %f\" % scs.skew(arr))\n",
    "    print(\"Skew test p-value %f\" % scs.skewtest(arr)[1])\n",
    "    print(\"Kurt of data set %f\" % scs.kurtosis(arr))\n",
    "    print(\"Kurt test p-value %f\" % scs.kurtosistest(arr)[1])\n",
    "    print(\"Norm test p-value %f\" % scs.normaltest(arr)[1])\n",
    "    \n",
    "normality_tests(df['returnsSPX'].values)"
   ]
  }
 ],
 "metadata": {
  "kernelspec": {
   "display_name": "Python 3 (ipykernel)",
   "language": "python",
   "name": "python3"
  },
  "language_info": {
   "codemirror_mode": {
    "name": "ipython",
    "version": 3
   },
   "file_extension": ".py",
   "mimetype": "text/x-python",
   "name": "python",
   "nbconvert_exporter": "python",
   "pygments_lexer": "ipython3",
   "version": "3.9.7"
  },
  "zanadu": {
   "authors": [
    "Antoine Jacquier"
   ],
   "bibliography_data": {},
   "category": "1",
   "clearance": "Internal",
   "group_name": "ImperialMScMathFin",
   "md5": "89b44aee5cbd343476da4f2250928147",
   "notebook_id": "9E972F61-844E-4F60-B56C-8E9FC8988A4C",
   "python_name": null,
   "reviewer_id": "B81D4EC4-269D-42B3-9975-85BC42EE5712",
   "status": "Approved"
  }
 },
 "nbformat": 4,
 "nbformat_minor": 4
}
