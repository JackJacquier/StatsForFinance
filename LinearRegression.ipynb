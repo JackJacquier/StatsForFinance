{
 "cells": [
  {
   "cell_type": "markdown",
   "metadata": {
    "zanadu": {}
   },
   "source": [
    "# **Linear Regression**\n",
    "---\n",
    " \n",
    "- Copyright (c) Antoine Jacquier (QuantLearn Ltd), 2022. All rights reserved\n",
    "\n",
    "- Author: Antoine Jacquier <Jack.QuantLearn@gmail.com>\n",
    "\n",
    "- Platform: Tested on Windows 10 with Python 3.9"
   ]
  },
  {
   "cell_type": "code",
   "execution_count": 1,
   "metadata": {
    "zanadu": {
     "code_type": ""
    }
   },
   "outputs": [],
   "source": [
    "import numpy as np\n",
    "import pandas as pd\n",
    "pd.core.common.is_list_like = pd.api.types.is_list_like\n",
    "from datetime import datetime\n",
    "%matplotlib inline\n",
    "import matplotlib.pyplot as plt\n",
    "import random\n",
    "import yfinance as yf\n",
    "import statsmodels.api as sm"
   ]
  },
  {
   "cell_type": "markdown",
   "metadata": {
    "zanadu": {}
   },
   "source": [
    "#### List of tickers"
   ]
  },
  {
   "cell_type": "code",
   "execution_count": 2,
   "metadata": {
    "zanadu": {
     "code_type": "",
     "is_hidden": true
    }
   },
   "outputs": [],
   "source": [
    "tickers = ['MMM', 'ABT', 'ABBV', 'ACN', 'ATVI', 'AYI', 'ADBE', 'AMD', 'AAP', 'AES', 'AET', 'AMG', 'AFL', 'A', 'APD', 'AKAM', 'ALK', 'ALB', 'ARE', 'ALXN', 'ALGN', 'ALLE', 'AGN', 'ADS', 'LNT', 'ALL', 'GOOGL', 'GOOG', 'MO', 'AMZN', 'AEE', 'AAL', 'AEP', 'AXP', 'AIG', 'AMT', 'AWK', 'AMP', 'ABC', 'AME', 'AMGN', 'APH', 'APC', 'ADI', 'ANDV', 'ANSS', 'ANTM', 'AON', 'AOS', 'APA', 'AIV', 'AAPL', 'AMAT', 'APTV', 'ADM', 'ARNC', 'AJG', 'AIZ', 'T', 'ADSK', 'ADP', 'AZO', 'AVB', 'AVY', 'BHGE', 'BLL', 'BAC', 'BK', 'BAX', 'BBT', 'BDX', 'BRK.B', 'BBY', 'BIIB', 'BLK', 'HRB', 'BA', 'BWA', 'BXP', 'BSX', 'BHF', 'BMY', 'AVGO', 'BF.B', 'CHRW', 'CA', 'COG', 'CDNS', 'CPB', 'COF', 'CAH', 'CBOE', 'KMX', 'CCL', 'CAT', 'CBG', 'CBS', 'CELG', 'CNC', 'CNP', 'CTL', 'CERN', 'CF', 'SCHW', 'CHTR', 'CHK', 'CVX', 'CMG', 'CB', 'CHD', 'CI', 'XEC', 'CINF', 'CTAS', 'CSCO', 'C', 'CFG', 'CTXS', 'CLX', 'CME', 'CMS', 'KO', 'CTSH', 'CL', 'CMCSA', 'CMA', 'CAG', 'CXO', 'COP', 'ED', 'STZ', 'COO', 'GLW', 'COST', 'COTY', 'CCI', 'CSRA', 'CSX', 'CMI', 'CVS', 'DHI', 'DHR', 'DRI', 'DVA', 'DE', 'DAL', 'XRAY', 'DVN', 'DLR', 'DFS', 'DISCA', 'DISCK', 'DISH', 'DG', 'DLTR', 'D', 'DOV', 'DWDP', 'DPS', 'DTE', 'DRE', 'DUK', 'DXC', 'ETFC', 'EMN', 'ETN', 'EBAY', 'ECL', 'EIX', 'EW', 'EA', 'EMR', 'ETR', 'EVHC', 'EOG', 'EQT', 'EFX', 'EQIX', 'EQR', 'ESS', 'EL', 'ES', 'RE', 'EXC', 'EXPE', 'EXPD', 'ESRX', 'EXR', 'XOM', 'FFIV', 'FB', 'FAST', 'FRT', 'FDX', 'FIS', 'FITB', 'FE', 'FISV', 'FLIR', 'FLS', 'FLR', 'FMC', 'FL', 'F', 'FTV', 'FBHS', 'BEN', 'FCX', 'GPS', 'GRMN', 'IT', 'GD', 'GE', 'GGP', 'GIS', 'GM', 'GPC', 'GILD', 'GPN', 'GS', 'GT', 'GWW', 'HAL', 'HBI', 'HOG', 'HRS', 'HIG', 'HAS', 'HCA', 'HCP', 'HP', 'HSIC', 'HSY', 'HES', 'HPE', 'HLT', 'HOLX', 'HD', 'HON', 'HRL', 'HST', 'HPQ', 'HUM', 'HBAN', 'HII', 'IDXX', 'INFO', 'ITW', 'ILMN', 'IR', 'INTC', 'ICE', 'IBM', 'INCY', 'IP', 'IPG', 'IFF', 'INTU', 'ISRG', 'IVZ', 'IQV', 'IRM', 'JEC', 'JBHT', 'SJM', 'JNJ', 'JCI', 'JPM', 'JNPR', 'KSU', 'K', 'KEY', 'KMB', 'KIM', 'KMI', 'KLAC', 'KSS', 'KHC', 'KR', 'LB', 'LLL', 'LH', 'LRCX', 'LEG', 'LEN', 'LUK', 'LLY', 'LNC', 'LKQ', 'LMT', 'L', 'LOW', 'LYB', 'MTB', 'MAC', 'M', 'MRO', 'MPC', 'MAR', 'MMC', 'MLM', 'MAS', 'MA', 'MAT', 'MKC', 'MCD', 'MCK', 'MDT', 'MRK', 'MET', 'MTD', 'MGM', 'KORS', 'MCHP', 'MU', 'MSFT', 'MAA', 'MHK', 'TAP', 'MDLZ', 'MON', 'MNST', 'MCO', 'MS', 'MOS', 'MSI', 'MYL', 'NDAQ', 'NOV', 'NAVI', 'NTAP', 'NFLX', 'NWL', 'NFX', 'NEM', 'NWSA', 'NWS', 'NEE', 'NLSN', 'NKE', 'NI', 'NBL', 'JWN', 'NSC', 'NTRS', 'NOC', 'NCLH', 'NRG', 'NUE', 'NVDA', 'ORLY', 'OXY', 'OMC', 'OKE', 'ORCL', 'PCAR', 'PKG', 'PH', 'PDCO', 'PAYX', 'PYPL', 'PNR', 'PBCT', 'PEP', 'PKI', 'PRGO', 'PFE', 'PCG', 'PM', 'PSX', 'PNW', 'PXD', 'PNC', 'RL', 'PPG', 'PPL', 'PX', 'PCLN', 'PFG', 'PG', 'PGR', 'PLD', 'PRU', 'PEG', 'PSA', 'PHM', 'PVH', 'QRVO', 'PWR', 'QCOM', 'DGX', 'RRC', 'RJF', 'RTN', 'O', 'RHT', 'REG', 'REGN', 'RF', 'RSG', 'RMD', 'RHI', 'ROK', 'COL', 'ROP', 'ROST', 'RCL', 'CRM', 'SBAC', 'SCG', 'SLB', 'SNI', 'STX', 'SEE', 'SRE', 'SHW', 'SIG', 'SPG', 'SWKS', 'SLG', 'SNA', 'SO', 'LUV', 'SPGI', 'SWK', 'SBUX', 'STT', 'SRCL', 'SYK', 'STI', 'SYMC', 'SYF', 'SNPS', 'SYY', 'TROW', 'TPR', 'TGT', 'TEL', 'FTI', 'TXN', 'TXT', 'TMO', 'TIF', 'TWX', 'TJX', 'TMK', 'TSS', 'TSCO', 'TDG', 'TRV', 'TRIP', 'FOXA', 'FOX', 'TSN', 'UDR', 'ULTA', 'USB', 'UAA', 'UA', 'UNP', 'UAL', 'UNH', 'UPS', 'URI', 'UTX', 'UHS', 'UNM', 'VFC', 'VLO', 'VAR', 'VTR', 'VRSN', 'VRSK', 'VZ', 'VRTX', 'VIAB', 'V', 'VNO', 'VMC', 'WMT', 'WBA', 'DIS', 'WM', 'WAT', 'WEC', 'WFC', 'HCN', 'WDC', 'WU', 'WRK', 'WY', 'WHR', 'WMB', 'WLTW', 'WYN', 'WYNN', 'XEL', 'XRX', 'XLNX', 'XL', 'XYL', 'YUM', 'ZBH', 'ZION', 'ZTS']"
   ]
  },
  {
   "cell_type": "code",
   "execution_count": 3,
   "metadata": {
    "zanadu": {
     "code_type": ""
    }
   },
   "outputs": [
    {
     "name": "stdout",
     "output_type": "stream",
     "text": [
      "[*********************100%***********************]  1 of 1 completed\n",
      "List of extracted tickers:  ['SPY', 'MTD', 'CTL', 'UPS', 'JCI', 'HPQ', 'DG', 'NLSN']\n"
     ]
    }
   ],
   "source": [
    "data_source = 'yahoo'\n",
    "start, end = '2016-01-01', '2018-01-01'\n",
    "\n",
    "ticker = 'SPY'\n",
    "df = yf.download(ticker,start, end)\n",
    "df.head()\n",
    "df = df.drop(columns=['Open', 'High', 'Low', 'Adj Close', 'Volume'])\n",
    "df.columns=[ticker]\n",
    "\n",
    "nbTickers = len(tickers)\n",
    "nbExtract = 7 ## Number of tickers to consider\n",
    "listExtractTickers = [ticker]\n",
    "listTemp = random.sample(tickers, nbExtract)\n",
    "for i in range(nbExtract):\n",
    "    listExtractTickers.append(listTemp[i]) ## select nbExtract out of the whole list\n",
    "print(\"List of extracted tickers: \", listExtractTickers)"
   ]
  },
  {
   "cell_type": "code",
   "execution_count": 4,
   "metadata": {
    "zanadu": {
     "code_type": ""
    }
   },
   "outputs": [
    {
     "name": "stdout",
     "output_type": "stream",
     "text": [
      "[*********************100%***********************]  1 of 1 completed\n",
      "[*********************100%***********************]  1 of 1 completed\n",
      "[*********************100%***********************]  1 of 1 completed\n",
      "[*********************100%***********************]  1 of 1 completed\n",
      "[*********************100%***********************]  1 of 1 completed\n",
      "[*********************100%***********************]  1 of 1 completed\n",
      "[*********************100%***********************]  1 of 1 completed\n"
     ]
    }
   ],
   "source": [
    "## We construct a DataFrame with the first 5 tickers only\n",
    "for ticker in listExtractTickers[1:]:\n",
    "    df0 = yf.download(ticker, start, end)\n",
    "    df0 = df0.drop(columns=['Open', 'High', 'Low', 'Adj Close', 'Volume'])\n",
    "    df0.columns=[ticker]\n",
    "    df = pd.concat([df, df0], axis=1)"
   ]
  },
  {
   "cell_type": "code",
   "execution_count": 5,
   "metadata": {
    "zanadu": {
     "code_type": ""
    }
   },
   "outputs": [
    {
     "name": "stdout",
     "output_type": "stream",
     "text": [
      "Total number of tickers: 505\n",
      "Numer of observations: 503\n",
      "Number of tickers selected: 7\n"
     ]
    },
    {
     "data": {
      "text/html": [
       "<div>\n",
       "<style scoped>\n",
       "    .dataframe tbody tr th:only-of-type {\n",
       "        vertical-align: middle;\n",
       "    }\n",
       "\n",
       "    .dataframe tbody tr th {\n",
       "        vertical-align: top;\n",
       "    }\n",
       "\n",
       "    .dataframe thead th {\n",
       "        text-align: right;\n",
       "    }\n",
       "</style>\n",
       "<table border=\"1\" class=\"dataframe\">\n",
       "  <thead>\n",
       "    <tr style=\"text-align: right;\">\n",
       "      <th></th>\n",
       "      <th>SPY</th>\n",
       "      <th>MTD</th>\n",
       "      <th>CTL</th>\n",
       "      <th>UPS</th>\n",
       "      <th>JCI</th>\n",
       "      <th>HPQ</th>\n",
       "      <th>DG</th>\n",
       "      <th>NLSN</th>\n",
       "    </tr>\n",
       "    <tr>\n",
       "      <th>Date</th>\n",
       "      <th></th>\n",
       "      <th></th>\n",
       "      <th></th>\n",
       "      <th></th>\n",
       "      <th></th>\n",
       "      <th></th>\n",
       "      <th></th>\n",
       "      <th></th>\n",
       "    </tr>\n",
       "  </thead>\n",
       "  <tbody>\n",
       "    <tr>\n",
       "      <th>2016-01-04</th>\n",
       "      <td>201.020004</td>\n",
       "      <td>329.339996</td>\n",
       "      <td>25.110001</td>\n",
       "      <td>94.839996</td>\n",
       "      <td>33.287956</td>\n",
       "      <td>11.60</td>\n",
       "      <td>72.410004</td>\n",
       "      <td>45.669998</td>\n",
       "    </tr>\n",
       "    <tr>\n",
       "      <th>2016-01-05</th>\n",
       "      <td>201.360001</td>\n",
       "      <td>331.380005</td>\n",
       "      <td>24.990000</td>\n",
       "      <td>95.779999</td>\n",
       "      <td>32.890053</td>\n",
       "      <td>11.71</td>\n",
       "      <td>72.830002</td>\n",
       "      <td>46.400002</td>\n",
       "    </tr>\n",
       "    <tr>\n",
       "      <th>2016-01-06</th>\n",
       "      <td>198.820007</td>\n",
       "      <td>324.739990</td>\n",
       "      <td>24.719999</td>\n",
       "      <td>94.419998</td>\n",
       "      <td>32.575916</td>\n",
       "      <td>11.29</td>\n",
       "      <td>72.709999</td>\n",
       "      <td>46.130001</td>\n",
       "    </tr>\n",
       "    <tr>\n",
       "      <th>2016-01-07</th>\n",
       "      <td>194.050003</td>\n",
       "      <td>315.730011</td>\n",
       "      <td>24.219999</td>\n",
       "      <td>92.599998</td>\n",
       "      <td>31.748692</td>\n",
       "      <td>10.77</td>\n",
       "      <td>71.839996</td>\n",
       "      <td>45.139999</td>\n",
       "    </tr>\n",
       "    <tr>\n",
       "      <th>2016-01-08</th>\n",
       "      <td>191.919998</td>\n",
       "      <td>313.929993</td>\n",
       "      <td>23.969999</td>\n",
       "      <td>91.389999</td>\n",
       "      <td>31.696335</td>\n",
       "      <td>10.58</td>\n",
       "      <td>71.459999</td>\n",
       "      <td>44.330002</td>\n",
       "    </tr>\n",
       "  </tbody>\n",
       "</table>\n",
       "</div>"
      ],
      "text/plain": [
       "                   SPY         MTD        CTL        UPS        JCI    HPQ  \\\n",
       "Date                                                                         \n",
       "2016-01-04  201.020004  329.339996  25.110001  94.839996  33.287956  11.60   \n",
       "2016-01-05  201.360001  331.380005  24.990000  95.779999  32.890053  11.71   \n",
       "2016-01-06  198.820007  324.739990  24.719999  94.419998  32.575916  11.29   \n",
       "2016-01-07  194.050003  315.730011  24.219999  92.599998  31.748692  10.77   \n",
       "2016-01-08  191.919998  313.929993  23.969999  91.389999  31.696335  10.58   \n",
       "\n",
       "                   DG       NLSN  \n",
       "Date                              \n",
       "2016-01-04  72.410004  45.669998  \n",
       "2016-01-05  72.830002  46.400002  \n",
       "2016-01-06  72.709999  46.130001  \n",
       "2016-01-07  71.839996  45.139999  \n",
       "2016-01-08  71.459999  44.330002  "
      ]
     },
     "execution_count": 5,
     "metadata": {},
     "output_type": "execute_result"
    }
   ],
   "source": [
    "print(\"Total number of tickers:\", nbTickers)\n",
    "print(\"Numer of observations:\", len(df))\n",
    "print(\"Number of tickers selected:\", nbExtract)\n",
    "df.head()"
   ]
  },
  {
   "cell_type": "markdown",
   "metadata": {},
   "source": [
    "Compute the returns"
   ]
  },
  {
   "cell_type": "code",
   "execution_count": 6,
   "metadata": {
    "zanadu": {
     "code_type": ""
    }
   },
   "outputs": [
    {
     "data": {
      "text/html": [
       "<div>\n",
       "<style scoped>\n",
       "    .dataframe tbody tr th:only-of-type {\n",
       "        vertical-align: middle;\n",
       "    }\n",
       "\n",
       "    .dataframe tbody tr th {\n",
       "        vertical-align: top;\n",
       "    }\n",
       "\n",
       "    .dataframe thead th {\n",
       "        text-align: right;\n",
       "    }\n",
       "</style>\n",
       "<table border=\"1\" class=\"dataframe\">\n",
       "  <thead>\n",
       "    <tr style=\"text-align: right;\">\n",
       "      <th></th>\n",
       "      <th>SPY</th>\n",
       "      <th>MTD</th>\n",
       "      <th>CTL</th>\n",
       "      <th>UPS</th>\n",
       "      <th>JCI</th>\n",
       "      <th>HPQ</th>\n",
       "      <th>DG</th>\n",
       "      <th>NLSN</th>\n",
       "    </tr>\n",
       "    <tr>\n",
       "      <th>Date</th>\n",
       "      <th></th>\n",
       "      <th></th>\n",
       "      <th></th>\n",
       "      <th></th>\n",
       "      <th></th>\n",
       "      <th></th>\n",
       "      <th></th>\n",
       "      <th></th>\n",
       "    </tr>\n",
       "  </thead>\n",
       "  <tbody>\n",
       "    <tr>\n",
       "      <th>2016-01-05</th>\n",
       "      <td>0.001691</td>\n",
       "      <td>0.006194</td>\n",
       "      <td>-0.004779</td>\n",
       "      <td>0.009911</td>\n",
       "      <td>-0.011953</td>\n",
       "      <td>0.009483</td>\n",
       "      <td>0.005800</td>\n",
       "      <td>0.015984</td>\n",
       "    </tr>\n",
       "    <tr>\n",
       "      <th>2016-01-06</th>\n",
       "      <td>-0.012614</td>\n",
       "      <td>-0.020037</td>\n",
       "      <td>-0.010804</td>\n",
       "      <td>-0.014199</td>\n",
       "      <td>-0.009551</td>\n",
       "      <td>-0.035867</td>\n",
       "      <td>-0.001648</td>\n",
       "      <td>-0.005819</td>\n",
       "    </tr>\n",
       "    <tr>\n",
       "      <th>2016-01-07</th>\n",
       "      <td>-0.023992</td>\n",
       "      <td>-0.027745</td>\n",
       "      <td>-0.020227</td>\n",
       "      <td>-0.019276</td>\n",
       "      <td>-0.025394</td>\n",
       "      <td>-0.046058</td>\n",
       "      <td>-0.011965</td>\n",
       "      <td>-0.021461</td>\n",
       "    </tr>\n",
       "    <tr>\n",
       "      <th>2016-01-08</th>\n",
       "      <td>-0.010977</td>\n",
       "      <td>-0.005701</td>\n",
       "      <td>-0.010322</td>\n",
       "      <td>-0.013067</td>\n",
       "      <td>-0.001649</td>\n",
       "      <td>-0.017642</td>\n",
       "      <td>-0.005289</td>\n",
       "      <td>-0.017944</td>\n",
       "    </tr>\n",
       "    <tr>\n",
       "      <th>2016-01-11</th>\n",
       "      <td>0.000990</td>\n",
       "      <td>-0.009779</td>\n",
       "      <td>0.006258</td>\n",
       "      <td>0.002954</td>\n",
       "      <td>0.000330</td>\n",
       "      <td>0.006616</td>\n",
       "      <td>-0.025469</td>\n",
       "      <td>0.014888</td>\n",
       "    </tr>\n",
       "  </tbody>\n",
       "</table>\n",
       "</div>"
      ],
      "text/plain": [
       "                 SPY       MTD       CTL       UPS       JCI       HPQ  \\\n",
       "Date                                                                     \n",
       "2016-01-05  0.001691  0.006194 -0.004779  0.009911 -0.011953  0.009483   \n",
       "2016-01-06 -0.012614 -0.020037 -0.010804 -0.014199 -0.009551 -0.035867   \n",
       "2016-01-07 -0.023992 -0.027745 -0.020227 -0.019276 -0.025394 -0.046058   \n",
       "2016-01-08 -0.010977 -0.005701 -0.010322 -0.013067 -0.001649 -0.017642   \n",
       "2016-01-11  0.000990 -0.009779  0.006258  0.002954  0.000330  0.006616   \n",
       "\n",
       "                  DG      NLSN  \n",
       "Date                            \n",
       "2016-01-05  0.005800  0.015984  \n",
       "2016-01-06 -0.001648 -0.005819  \n",
       "2016-01-07 -0.011965 -0.021461  \n",
       "2016-01-08 -0.005289 -0.017944  \n",
       "2016-01-11 -0.025469  0.014888  "
      ]
     },
     "execution_count": 6,
     "metadata": {},
     "output_type": "execute_result"
    }
   ],
   "source": [
    "returns = df.pct_change(1)\n",
    "returns= returns.dropna()\n",
    "returns.head()"
   ]
  },
  {
   "cell_type": "markdown",
   "metadata": {
    "zanadu": {}
   },
   "source": [
    "### Scatter plot"
   ]
  },
  {
   "cell_type": "code",
   "execution_count": 7,
   "metadata": {
    "zanadu": {
     "code_type": "",
     "is_hidden": true
    }
   },
   "outputs": [
    {
     "data": {
      "image/png": "[encoded data removed]",
      "text/plain": [
       "<Figure size 1440x864 with 9 Axes>"
      ]
     },
     "metadata": {
      "needs_background": "light"
     },
     "output_type": "display_data"
    }
   ],
   "source": [
    "nbCols = 3\n",
    "nbRows = 1+nbExtract//nbCols\n",
    "rem = nbExtract%nbCols\n",
    "fig, axs = plt.subplots(nrows=nbRows, ncols=nbCols, figsize=(20, 4*nbRows))\n",
    "for i in range(nbRows):\n",
    "    for j in range(0,nbCols):\n",
    "        if (nbCols*i+j)<nbExtract:\n",
    "            plt.subplot(nbRows, nbCols, nbCols*i+j+1)\n",
    "            idCol = returns.columns[3*i+1]\n",
    "            plt.scatter(returns[idCol], returns[\"SPY\"])\n",
    "            plt.ylabel(\"SPY\", size=15)\n",
    "            plt.xlabel(\"%s (ID:%i)\" %(idCol, nbCols*i+j), size=15)\n",
    "plt.subplots_adjust(hspace=0.3, wspace=1.)\n",
    "plt.show()"
   ]
  },
  {
   "cell_type": "markdown",
   "metadata": {
    "zanadu": {}
   },
   "source": [
    "### Linear regression of SPY against one of the components"
   ]
  },
  {
   "cell_type": "markdown",
   "metadata": {
    "zanadu": {}
   },
   "source": [
    "#### Choice of the component"
   ]
  },
  {
   "cell_type": "code",
   "execution_count": 8,
   "metadata": {
    "zanadu": {
     "code_type": ""
    }
   },
   "outputs": [
    {
     "data": {
      "image/png": "[encoded data removed]",
      "text/plain": [
       "<Figure size 432x288 with 1 Axes>"
      ]
     },
     "metadata": {
      "needs_background": "light"
     },
     "output_type": "display_data"
    }
   ],
   "source": [
    "choiceIndex = 5\n",
    "stockLabel = returns.columns[choiceIndex]\n",
    "plt.figure(figsize = (6,4))\n",
    "idCol = returns.columns[choiceIndex]\n",
    "plt.scatter(returns[stockLabel], returns[\"SPY\"])\n",
    "plt.ylabel(\"SPY\", size=15)\n",
    "plt.xlabel(\"%s (ID:%i)\" %(idCol, choiceIndex), size=15)\n",
    "plt.show()"
   ]
  },
  {
   "cell_type": "markdown",
   "metadata": {},
   "source": [
    "#### Run a linear regression"
   ]
  },
  {
   "cell_type": "code",
   "execution_count": 9,
   "metadata": {
    "zanadu": {
     "code_type": ""
    }
   },
   "outputs": [
    {
     "name": "stdout",
     "output_type": "stream",
     "text": [
      "                                 OLS Regression Results                                \n",
      "=======================================================================================\n",
      "Dep. Variable:                      y   R-squared (uncentered):                   0.303\n",
      "Model:                            OLS   Adj. R-squared (uncentered):              0.302\n",
      "Method:                 Least Squares   F-statistic:                              218.2\n",
      "Date:                Thu, 03 Dec 2020   Prob (F-statistic):                    3.01e-41\n",
      "Time:                        17:48:58   Log-Likelihood:                          1900.7\n",
      "No. Observations:                 502   AIC:                                     -3799.\n",
      "Df Residuals:                     501   BIC:                                     -3795.\n",
      "Df Model:                           1                                                  \n",
      "Covariance Type:            nonrobust                                                  \n",
      "==============================================================================\n",
      "                 coef    std err          t      P>|t|      [0.025      0.975]\n",
      "------------------------------------------------------------------------------\n",
      "x1             0.2171      0.015     14.771      0.000       0.188       0.246\n",
      "==============================================================================\n",
      "Omnibus:                       40.533   Durbin-Watson:                   2.302\n",
      "Prob(Omnibus):                  0.000   Jarque-Bera (JB):              180.824\n",
      "Skew:                          -0.101   Prob(JB):                     5.43e-40\n",
      "Kurtosis:                       5.933   Cond. No.                         1.00\n",
      "==============================================================================\n",
      "\n",
      "Warnings:\n",
      "[1] Standard Errors assume that the covariance matrix of the errors is correctly specified.\n"
     ]
    }
   ],
   "source": [
    "X = returns[stockLabel].values\n",
    "Y = returns[\"SPY\"].values\n",
    "modle = sm.add_constant(X)\n",
    "model = sm.OLS(Y, X).fit()\n",
    "print(model.summary())"
   ]
  },
  {
   "cell_type": "code",
   "execution_count": 10,
   "metadata": {
    "zanadu": {
     "code_type": ""
    }
   },
   "outputs": [
    {
     "name": "stdout",
     "output_type": "stream",
     "text": [
      "parameters:  [0.21713769]\n"
     ]
    }
   ],
   "source": [
    "print('parameters: ', model.params)"
   ]
  },
  {
   "cell_type": "code",
   "execution_count": 11,
   "metadata": {
    "zanadu": {
     "code_type": ""
    }
   },
   "outputs": [
    {
     "data": {
      "image/png": "[encoded data removed]",
      "text/plain": [
       "<Figure size 432x288 with 1 Axes>"
      ]
     },
     "metadata": {
      "needs_background": "light"
     },
     "output_type": "display_data"
    }
   ],
   "source": [
    "plt.figure(figsize = (6, 4))\n",
    "plt.scatter(returns[stockLabel], returns[\"SPY\"])\n",
    "plt.ylabel('SPY', size=15)\n",
    "plt.xlabel(stockLabel, size=15)\n",
    "plt.title(\"Linear regression results\", size=15)\n",
    "plt.plot(returns[stockLabel], model.predict(),'r-')\n",
    "plt.show()"
   ]
  },
  {
   "cell_type": "markdown",
   "metadata": {
    "zanadu": {}
   },
   "source": [
    "### Does adding variables increase the $R^2$?"
   ]
  },
  {
   "cell_type": "code",
   "execution_count": 12,
   "metadata": {
    "zanadu": {
     "code_type": ""
    }
   },
   "outputs": [
    {
     "name": "stderr",
     "output_type": "stream",
     "text": [
      "C:\\Users\\Jacka\\anaconda3\\lib\\site-packages\\ipykernel_launcher.py:12: FutureWarning: arrays to stack must be passed as a \"sequence\" type such as list or tuple. Support for non-sequence iterables such as generators is deprecated as of NumPy 1.16 and will raise an error in the future.\n",
      "  if sys.path[0] == '':\n"
     ]
    }
   ],
   "source": [
    "rSquared = []\n",
    "N = 1\n",
    "regressionTickers = returns.columns[1]\n",
    "X = returns[regressionTickers].values\n",
    "Y = returns[\"SPY\"].values\n",
    "X = sm.add_constant(X)\n",
    "model = sm.OLS(Y, X).fit()\n",
    "rSquared.append(model.rsquared)\n",
    "\n",
    "for N in range(2, nbExtract):\n",
    "    regressionTickers = [returns.columns[i] for i in range(1, N)]\n",
    "    X = np.column_stack((returns[rt].values for rt in regressionTickers))\n",
    "    Y = returns[\"SPY\"].values\n",
    "    X = sm.add_constant(X)\n",
    "    model = sm.OLS(Y, X).fit()\n",
    "    rSquared.append(model.rsquared)"
   ]
  },
  {
   "cell_type": "code",
   "execution_count": 13,
   "metadata": {
    "zanadu": {
     "code_type": ""
    }
   },
   "outputs": [
    {
     "data": {
      "image/png": "[encoded data removed]",
      "text/plain": [
       "<Figure size 432x288 with 1 Axes>"
      ]
     },
     "metadata": {
      "needs_background": "light"
     },
     "output_type": "display_data"
    }
   ],
   "source": [
    "df = pd.DataFrame({ 'Nb Regressors' : range(1,nbExtract),'RSquared' : rSquared})\n",
    "df = df.set_index('Nb Regressors')\n",
    "df['RSquared'].plot();"
   ]
  },
  {
   "cell_type": "markdown",
   "metadata": {
    "zanadu": {}
   },
   "source": [
    "#### Linear Regression with all the factors"
   ]
  },
  {
   "cell_type": "code",
   "execution_count": 14,
   "metadata": {
    "zanadu": {
     "code_type": ""
    }
   },
   "outputs": [
    {
     "name": "stdout",
     "output_type": "stream",
     "text": [
      "                            OLS Regression Results                            \n",
      "==============================================================================\n",
      "Dep. Variable:                      y   R-squared:                       0.647\n",
      "Model:                            OLS   Adj. R-squared:                  0.642\n",
      "Method:                 Least Squares   F-statistic:                     150.9\n",
      "Date:                Thu, 03 Dec 2020   Prob (F-statistic):          2.16e-108\n",
      "Time:                        17:49:25   Log-Likelihood:                 2073.0\n",
      "No. Observations:                 502   AIC:                            -4132.\n",
      "Df Residuals:                     495   BIC:                            -4102.\n",
      "Df Model:                           6                                         \n",
      "Covariance Type:            nonrobust                                         \n",
      "==============================================================================\n",
      "                 coef    std err          t      P>|t|      [0.025      0.975]\n",
      "------------------------------------------------------------------------------\n",
      "const       5.438e-05      0.000      0.308      0.758      -0.000       0.000\n",
      "x1             0.1885      0.016     11.673      0.000       0.157       0.220\n",
      "x2             0.0348      0.009      4.021      0.000       0.018       0.052\n",
      "x3             0.2189      0.021     10.236      0.000       0.177       0.261\n",
      "x4             0.0570      0.013      4.330      0.000       0.031       0.083\n",
      "x5             0.1106      0.012      9.548      0.000       0.088       0.133\n",
      "x6             0.0382      0.011      3.565      0.000       0.017       0.059\n",
      "==============================================================================\n",
      "Omnibus:                       43.488   Durbin-Watson:                   2.298\n",
      "Prob(Omnibus):                  0.000   Jarque-Bera (JB):              139.080\n",
      "Skew:                          -0.348   Prob(JB):                     6.30e-31\n",
      "Kurtosis:                       5.483   Cond. No.                         125.\n",
      "==============================================================================\n",
      "\n",
      "Warnings:\n",
      "[1] Standard Errors assume that the covariance matrix of the errors is correctly specified.\n"
     ]
    },
    {
     "name": "stderr",
     "output_type": "stream",
     "text": [
      "C:\\Users\\Jacka\\anaconda3\\lib\\site-packages\\ipykernel_launcher.py:3: FutureWarning: arrays to stack must be passed as a \"sequence\" type such as list or tuple. Support for non-sequence iterables such as generators is deprecated as of NumPy 1.16 and will raise an error in the future.\n",
      "  This is separate from the ipykernel package so we can avoid doing imports until\n"
     ]
    }
   ],
   "source": [
    "N = nbExtract\n",
    "regressionTickers = [returns.columns[i] for i in range(1, N)]\n",
    "X = np.column_stack((returns[rt].values for rt in regressionTickers))\n",
    "Y = returns[\"SPY\"].values\n",
    "X = sm.add_constant(X)\n",
    "model = sm.OLS(Y, X).fit()\n",
    "print(model.summary())"
   ]
  },
  {
   "cell_type": "markdown",
   "metadata": {
    "zanadu": {}
   },
   "source": [
    "### Linear Regression using Scikit Learn"
   ]
  },
  {
   "cell_type": "code",
   "execution_count": 15,
   "metadata": {
    "zanadu": {
     "code_type": ""
    }
   },
   "outputs": [
    {
     "data": {
      "text/plain": [
       "LinearRegression(copy_X=True, fit_intercept=True, n_jobs=None, normalize=False)"
      ]
     },
     "execution_count": 15,
     "metadata": {},
     "output_type": "execute_result"
    }
   ],
   "source": [
    "from sklearn.linear_model import LinearRegression\n",
    "x, y = returns[stockLabel].values, returns[\"SPY\"].values\n",
    "length = len(returns[stockLabel].values)\n",
    "x = x.reshape(length, 1)\n",
    "y = y.reshape(length, 1)\n",
    "regr = LinearRegression()\n",
    "regr.fit(x, y)"
   ]
  },
  {
   "cell_type": "code",
   "execution_count": 16,
   "metadata": {
    "zanadu": {
     "code_type": ""
    }
   },
   "outputs": [
    {
     "data": {
      "image/png": "[encoded data removed]",
      "text/plain": [
       "<Figure size 432x288 with 1 Axes>"
      ]
     },
     "metadata": {
      "needs_background": "light"
     },
     "output_type": "display_data"
    }
   ],
   "source": [
    "plt.scatter(y, x,  color='blue')\n",
    "plt.plot(regr.predict(x), x, color='red', linewidth=2)\n",
    "plt.xlabel(stockLabel, size=15)\n",
    "plt.ylabel(\"SPY\", size=15)\n",
    "plt.show()"
   ]
  },
  {
   "cell_type": "code",
   "execution_count": 17,
   "metadata": {
    "zanadu": {
     "code_type": ""
    }
   },
   "outputs": [
    {
     "name": "stdout",
     "output_type": "stream",
     "text": [
      "Regression coefficient:  [[0.21570802]]\n",
      "Regression intercept:  [0.00030082]\n"
     ]
    }
   ],
   "source": [
    "print(\"Regression coefficient: \", regr.coef_)\n",
    "print(\"Regression intercept: \", regr.intercept_)"
   ]
  }
 ],
 "metadata": {
  "kernelspec": {
   "display_name": "Python 3 (ipykernel)",
   "language": "python",
   "name": "python3"
  },
  "language_info": {
   "codemirror_mode": {
    "name": "ipython",
    "version": 3
   },
   "file_extension": ".py",
   "mimetype": "text/x-python",
   "name": "python",
   "nbconvert_exporter": "python",
   "pygments_lexer": "ipython3",
   "version": "3.9.7"
  },
  "latex_envs": {
   "LaTeX_envs_menu_present": true,
   "autoclose": false,
   "autocomplete": true,
   "bibliofile": "biblio.bib",
   "cite_by": "apalike",
   "current_citInitial": 1,
   "eqLabelWithNumbers": true,
   "eqNumInitial": 1,
   "hotkeys": {
    "equation": "Ctrl-E",
    "itemize": "Ctrl-I"
   },
   "labels_anchors": false,
   "latex_user_defs": false,
   "report_style_numbering": false,
   "user_envs_cfg": false
  },
  "toc": {
   "base_numbering": 1,
   "nav_menu": {},
   "number_sections": true,
   "sideBar": true,
   "skip_h1_title": true,
   "title_cell": "Table of Contents",
   "title_sidebar": "Contents",
   "toc_cell": false,
   "toc_position": {},
   "toc_section_display": true,
   "toc_window_display": true
  },
  "zanadu": {
   "authors": [
    "Antoine Jacquier"
   ],
   "bibliography_data": {},
   "category": "1",
   "clearance": "Internal",
   "group_name": "ImperialMScMathFin",
   "md5": "cb0d8d9c54a3a7584ad1525bb5f68741",
   "notebook_id": "A9E6BCC3-FB5A-4773-B2A8-BDDCFBE93F03",
   "python_name": null,
   "reviewer_id": "B81D4EC4-269D-42B3-9975-85BC42EE5712",
   "status": "Review Pending"
  }
 },
 "nbformat": 4,
 "nbformat_minor": 4
}
